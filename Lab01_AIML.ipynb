{
  "nbformat": 4,
  "nbformat_minor": 0,
  "metadata": {
    "colab": {
      "provenance": [],
      "authorship_tag": "ABX9TyMVmyIQHA6uiiMPYEVOl1Rh",
      "include_colab_link": true
    },
    "kernelspec": {
      "name": "python3",
      "display_name": "Python 3"
    },
    "language_info": {
      "name": "python"
    }
  },
  "cells": [
    {
      "cell_type": "markdown",
      "metadata": {
        "id": "view-in-github",
        "colab_type": "text"
      },
      "source": [
        "<a href=\"https://colab.research.google.com/github/Trisha81/AIML-2025/blob/main/Lab01_AIML.ipynb\" target=\"_parent\"><img src=\"https://colab.research.google.com/assets/colab-badge.svg\" alt=\"Open In Colab\"/></a>"
      ]
    },
    {
      "cell_type": "markdown",
      "source": [
        "Lab-01:Introduction to Python, Matplotlib ,Numpy"
      ],
      "metadata": {
        "id": "GIV0nSGrl8fy"
      }
    },
    {
      "cell_type": "markdown",
      "source": [
        "Introduction to Python Packages - Numpy, Pandas, Matplotlib, and Access to Data Sources"
      ],
      "metadata": {
        "id": "bICfUonbmYc5"
      }
    },
    {
      "cell_type": "markdown",
      "source": [
        "Part 1:Implement basic data structures using Numpy ,Pandas"
      ],
      "metadata": {
        "id": "s1zvZyuBmm3S"
      }
    },
    {
      "cell_type": "code",
      "source": [
        "import numpy as np\n",
        "import matplotlib.pyplot as plt\n",
        "import pandas as pd\n",
        "\n",
        "\n",
        "\n",
        "list1 =[1,2,3,4]\n",
        "array1 = np.array(list1)\n",
        "array1\n",
        "array2 = np.array([1,2,3,4])\n",
        "list1 ,array1,array2"
      ],
      "metadata": {
        "colab": {
          "base_uri": "https://localhost:8080/"
        },
        "id": "SuR8Rgnjm0WZ",
        "outputId": "18a79608-33a6-48c3-9cd3-076e69ae6eca"
      },
      "execution_count": 1,
      "outputs": [
        {
          "output_type": "execute_result",
          "data": {
            "text/plain": [
              "([1, 2, 3, 4], array([1, 2, 3, 4]), array([1, 2, 3, 4]))"
            ]
          },
          "metadata": {},
          "execution_count": 1
        }
      ]
    }
  ]
}