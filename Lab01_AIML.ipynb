{
  "nbformat": 4,
  "nbformat_minor": 0,
  "metadata": {
    "colab": {
      "provenance": [],
      "authorship_tag": "ABX9TyN28abZ+831rssWm2CvsHrH",
      "include_colab_link": true
    },
    "kernelspec": {
      "name": "python3",
      "display_name": "Python 3"
    },
    "language_info": {
      "name": "python"
    }
  },
  "cells": [
    {
      "cell_type": "markdown",
      "metadata": {
        "id": "view-in-github",
        "colab_type": "text"
      },
      "source": [
        "<a href=\"https://colab.research.google.com/github/Trisha81/AIML-2025/blob/main/Lab01_AIML.ipynb\" target=\"_parent\"><img src=\"https://colab.research.google.com/assets/colab-badge.svg\" alt=\"Open In Colab\"/></a>"
      ]
    },
    {
      "cell_type": "markdown",
      "source": [
        "Lab-01:Introduction to Python, Matplotlib ,Numpy"
      ],
      "metadata": {
        "id": "GIV0nSGrl8fy"
      }
    },
    {
      "cell_type": "markdown",
      "source": [
        "Introduction to Python Packages - Numpy, Pandas, Matplotlib, and Access to Data Sources"
      ],
      "metadata": {
        "id": "bICfUonbmYc5"
      }
    },
    {
      "cell_type": "markdown",
      "source": [
        "Part 1:Implement basic data structures using Numpy ,Pandas"
      ],
      "metadata": {
        "id": "s1zvZyuBmm3S"
      }
    },
    {
      "cell_type": "code",
      "source": [
        "import numpy as np\n",
        "import matplotlib.pyplot as plt\n",
        "import pandas as pd\n",
        "\n",
        "\n",
        "\n",
        "list1 =[1,2,3,4]\n",
        "array1 = np.array(list1)\n",
        "array1\n",
        "array2 = np.array([1,2,3,4])\n",
        "list1 ,array1,array2"
      ],
      "metadata": {
        "colab": {
          "base_uri": "https://localhost:8080/"
        },
        "id": "SuR8Rgnjm0WZ",
        "outputId": "18a79608-33a6-48c3-9cd3-076e69ae6eca"
      },
      "execution_count": 1,
      "outputs": [
        {
          "output_type": "execute_result",
          "data": {
            "text/plain": [
              "([1, 2, 3, 4], array([1, 2, 3, 4]), array([1, 2, 3, 4]))"
            ]
          },
          "metadata": {},
          "execution_count": 1
        }
      ]
    },
    {
      "cell_type": "code",
      "source": [
        "#Identify the type of Data Structure\n",
        "type(list1), type(array1), type(array2)\n",
        "\n"
      ],
      "metadata": {
        "colab": {
          "base_uri": "https://localhost:8080/"
        },
        "id": "HghNEC5IoEsu",
        "outputId": "49193d95-7d63-490c-ade6-99bd2891d4b7"
      },
      "execution_count": 2,
      "outputs": [
        {
          "output_type": "execute_result",
          "data": {
            "text/plain": [
              "(list, numpy.ndarray, numpy.ndarray)"
            ]
          },
          "metadata": {},
          "execution_count": 2
        }
      ]
    },
    {
      "cell_type": "code",
      "source": [
        "## Perform mathematical operations on arrays,lists\n",
        "print(\"Adding two arrays : \", array1 + array2)\n",
        "print(\"Subraction of two arrays :\", array1 - array2)\n",
        "print(\"Multiplying two array : \",array1 * array2)\n",
        "print(\"Dividing two arrays : \",array1 /array2 )\n",
        "print(\"exponentiating two : \",array1**array2)\n",
        "print(\"Multiply an array to list: \",array2*list1)"
      ],
      "metadata": {
        "colab": {
          "base_uri": "https://localhost:8080/"
        },
        "id": "LCQu-eoRomVp",
        "outputId": "25e405b8-43df-428c-ca7b-403cb0d02402"
      },
      "execution_count": 7,
      "outputs": [
        {
          "output_type": "stream",
          "name": "stdout",
          "text": [
            "Adding two arrays :  [2 4 6 8]\n",
            "Subraction of two arrays : [0 0 0 0]\n",
            "Multiplying two array :  [ 1  4  9 16]\n",
            "Dividing two arrays :  [1. 1. 1. 1.]\n",
            "exponentiating two :  [  1   4  27 256]\n",
            "Multiply an array to list:  [ 1  4  9 16]\n"
          ]
        }
      ]
    },
    {
      "cell_type": "code",
      "source": [
        "#combine text with numpy function\n",
        "print(f\"Adding {array1} with {array2}\")\n",
        "print(f\"Result: {np.add(array1,array2)}\")"
      ],
      "metadata": {
        "colab": {
          "base_uri": "https://localhost:8080/"
        },
        "id": "GwdGq1CGrjg0",
        "outputId": "1514623a-51ff-49bf-c1df-1232c7f2a736"
      },
      "execution_count": 8,
      "outputs": [
        {
          "output_type": "stream",
          "name": "stdout",
          "text": [
            "Adding [1 2 3 4] with [1 2 3 4]\n",
            "Result: [2 4 6 8]\n"
          ]
        }
      ]
    },
    {
      "cell_type": "code",
      "source": [
        "#Find the sin, log ,log2 ,exp values\n",
        "print(f\"Sine value of array1:  {np.sin(array1)}\" )\n",
        "print(f\"log value of array1 :  {np.log(array1)}\")\n",
        "print(f\" log base 2 value of array1:  {np.log2(array1)}\")\n",
        "print(f\" log base 10 value of array1: {np.log10(array1)}\")\n",
        "print(f\"exponential value of array1 : {np.exp(array1)}\")"
      ],
      "metadata": {
        "colab": {
          "base_uri": "https://localhost:8080/"
        },
        "id": "rwI6QXD9r8gy",
        "outputId": "5dfbb6bb-88fe-4cc4-9f32-d08d33f22db6"
      },
      "execution_count": 12,
      "outputs": [
        {
          "output_type": "stream",
          "name": "stdout",
          "text": [
            "Sine value of array1:  [ 0.84147098  0.90929743  0.14112001 -0.7568025 ]\n",
            "log value of array1 :  [0.         0.69314718 1.09861229 1.38629436]\n",
            " log base 2 value of array1:  [0.        1.        1.5849625 2.       ]\n",
            " log base 10 value of array1: [0.         0.30103    0.47712125 0.60205999]\n",
            "exponential value of array1 : [ 2.71828183  7.3890561  20.08553692 54.59815003]\n"
          ]
        }
      ]
    },
    {
      "cell_type": "markdown",
      "source": [
        "Part 2: Visulalize the data sets using matplotlib libraries"
      ],
      "metadata": {
        "id": "i_LMIwlauNcc"
      }
    },
    {
      "cell_type": "code",
      "source": [],
      "metadata": {
        "id": "fQZzBux-ubXf"
      },
      "execution_count": null,
      "outputs": []
    }
  ]
}