{
  "nbformat": 4,
  "nbformat_minor": 0,
  "metadata": {
    "colab": {
      "provenance": [],
      "authorship_tag": "ABX9TyMF68jn3TBELaNxhlP/Oo97",
      "include_colab_link": true
    },
    "kernelspec": {
      "name": "python3",
      "display_name": "Python 3"
    },
    "language_info": {
      "name": "python"
    }
  },
  "cells": [
    {
      "cell_type": "markdown",
      "metadata": {
        "id": "view-in-github",
        "colab_type": "text"
      },
      "source": [
        "<a href=\"https://colab.research.google.com/github/Trisha81/AIML-2025/blob/main/Lab_02.ipynb\" target=\"_parent\"><img src=\"https://colab.research.google.com/assets/colab-badge.svg\" alt=\"Open In Colab\"/></a>"
      ]
    },
    {
      "cell_type": "markdown",
      "source": [
        "implement breadth first search algorithm"
      ],
      "metadata": {
        "id": "_TzuRUxd0AN7"
      }
    },
    {
      "cell_type": "code",
      "source": [
        "from queue import Queue\n",
        "graph ={0: [1,2,3], 1: [0,2], 2: [0,3,5], 3: [0,2,4], 4: [3,5,7], 5: [2,4,6,7],6: [7,5],7:[]}\n",
        "print(\"The adjacency list representing the graph is:\")\n",
        "print(graph)\n",
        "\n",
        "#Logical Implementation of Breadth first search\n",
        "\n",
        "def bfs(graph, source):\n",
        "  Q = Queue()\n",
        "  visited_vertices = set()\n",
        "  Q.put(source)\n",
        "  visited_vertices.update({source})\n",
        "  while not Q.empty():\n",
        "    vertex = Q.get()\n",
        "    print(vertex, end=\"-->\")\n",
        "    for u in graph[vertex]:\n",
        "      if u not in visited_vertices:\n",
        "        Q.put(u)\n",
        "        visited_vertices.update({u})\n",
        "print(\"BFS traversal of graph with source 0 is:\")\n",
        "bfs(graph, 0)\n",
        "\n"
      ],
      "metadata": {
        "colab": {
          "base_uri": "https://localhost:8080/"
        },
        "id": "Ec0sje7rr5mm",
        "outputId": "a93e0feb-04c4-4f7d-fd0e-a3042d62aacf"
      },
      "execution_count": 10,
      "outputs": [
        {
          "output_type": "stream",
          "name": "stdout",
          "text": [
            "The adjacency list representing the graph is:\n",
            "{0: [1, 2, 3], 1: [0, 2], 2: [0, 3, 5], 3: [0, 2, 4], 4: [3, 5, 7], 5: [2, 4, 6, 7], 6: [7, 5], 7: []}\n",
            "BFS traversal of graph with source 0 is:\n",
            "0-->1-->2-->3-->5-->4-->6-->7-->"
          ]
        }
      ]
    },
    {
      "cell_type": "markdown",
      "source": [
        "implement depth first search algorithm"
      ],
      "metadata": {
        "id": "VcL-D_3b0GCJ"
      }
    },
    {
      "cell_type": "code",
      "source": [
        "graph1 = {\n",
        "      'A' : ['B','C','G'],\n",
        "      'B' :['A'],\n",
        "      'C' :['A','D','F',],\n",
        "      'D' :['A','C','E','H'],\n",
        "      'E' :['D','H','F'],\n",
        "      'F' :[ 'C','E'],\n",
        "      'G' :[ 'A', 'D','H'] ,\n",
        "      'H' :['D','E','G']\n",
        "      }\n",
        "def dfs(graph, node, visited):\n",
        "  if node not in visited:\n",
        "    visited.append(node)\n",
        "    for k in graph[node]:\n",
        "      dfs(graph,k, visited)\n",
        "    return visited\n",
        "visited = dfs(graph1, 'D', [])\n",
        "print(visited)"
      ],
      "metadata": {
        "colab": {
          "base_uri": "https://localhost:8080/"
        },
        "id": "PMgiXgey0M--",
        "outputId": "6af04b81-a775-4bf6-9aba-151b2dfaecb5"
      },
      "execution_count": 12,
      "outputs": [
        {
          "output_type": "stream",
          "name": "stdout",
          "text": [
            "['D', 'A', 'B', 'C', 'F', 'E', 'H', 'G']\n"
          ]
        }
      ]
    }
  ]
}